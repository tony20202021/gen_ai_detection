{
 "cells": [
  {
   "cell_type": "markdown",
   "metadata": {},
   "source": [
    "# Визуализация эмбедингов и кластеров для обнаружения генеративного ИИ\n",
    "\n",
    "Этот ноутбук предназначен для визуализации эмбедингов текстов и результатов кластеризации в проекте обнаружения генеративного ИИ."
   ]
  },
  {
   "cell_type": "code",
   "execution_count": 1,
   "metadata": {},
   "outputs": [],
   "source": [
    "import os\n",
    "import pandas as pd\n",
    "import numpy as np\n",
    "import matplotlib.pyplot as plt\n",
    "import seaborn as sns\n",
    "import pickle\n",
    "from sklearn.manifold import TSNE\n",
    "import plotly.express as px\n",
    "import plotly.graph_objects as go\n",
    "from plotly.subplots import make_subplots\n",
    "from sklearn.metrics import confusion_matrix, silhouette_score, adjusted_rand_score\n",
    "import warnings\n",
    "warnings.filterwarnings('ignore')\n",
    "\n",
    "# Устанавливаем стиль для matplotlib\n",
    "plt.style.use('ggplot')\n",
    "sns.set_theme(style=\"whitegrid\")"
   ]
  },
  {
   "cell_type": "code",
   "execution_count": null,
   "metadata": {},
   "outputs": [],
   "source": [
    "!pwd"
   ]
  },
  {
   "cell_type": "code",
   "execution_count": 3,
   "metadata": {},
   "outputs": [],
   "source": [
    "import utils_visualization as viz"
   ]
  },
  {
   "cell_type": "code",
   "execution_count": null,
   "metadata": {},
   "outputs": [],
   "source": [
    "task_num = 2\n",
    "\n",
    "task_num"
   ]
  },
  {
   "cell_type": "markdown",
   "metadata": {},
   "source": [
    "## 1. Загрузка данных\n",
    "\n",
    "Сначала загрузим эмбединги, полученные с помощью скрипта `extract_embeddings.py`, и результаты кластеризации из `clustering.py`."
   ]
  },
  {
   "cell_type": "code",
   "execution_count": null,
   "metadata": {},
   "outputs": [],
   "source": [
    "# Загрузка данных\n",
    "df_viz, embeddings, embeddings_tsne, metadata, cluster_labels, task = viz.load_data(task_num)\n",
    "\n",
    "df_viz.head()\n"
   ]
  },
  {
   "cell_type": "markdown",
   "metadata": {},
   "source": [
    "## 2. Визуализация эмбедингов с истинными метками\n",
    "\n",
    "Визуализируем эмбединги в 2D-пространстве с раскраской по истинным меткам классов."
   ]
  },
  {
   "cell_type": "code",
   "execution_count": null,
   "metadata": {},
   "outputs": [],
   "source": [
    "# Базовая визуализация t-SNE\n",
    "viz.visualize_tsne_basic(df_viz, task)\n"
   ]
  },
  {
   "cell_type": "markdown",
   "metadata": {},
   "source": [
    "## 3. Интерактивная визуализация с Plotly\n",
    "\n",
    "Создадим интерактивную визуализацию эмбедингов с возможностью исследования точек."
   ]
  },
  {
   "cell_type": "code",
   "execution_count": null,
   "metadata": {},
   "outputs": [],
   "source": [
    "# Интерактивная визуализация t-SNE\n",
    "viz.visualize_tsne_interactive(df_viz, task)"
   ]
  },
  {
   "cell_type": "markdown",
   "metadata": {},
   "source": [
    "## 4. Визуализация результатов кластеризации\n",
    "\n",
    "Теперь визуализируем результаты кластеризации и сравним их с истинными метками."
   ]
  },
  {
   "cell_type": "code",
   "execution_count": null,
   "metadata": {},
   "outputs": [],
   "source": [
    "# Сравнение истинных меток с кластерами\n",
    "viz.visualize_labels_vs_clusters(df_viz, task)\n"
   ]
  },
  {
   "cell_type": "markdown",
   "metadata": {},
   "source": [
    "## 5. Оценка соответствия кластеров истинным меткам\n",
    "\n",
    "Построим матрицу соответствия между кластерами и истинными метками."
   ]
  },
  {
   "cell_type": "code",
   "execution_count": null,
   "metadata": {},
   "outputs": [],
   "source": [
    "# Анализ метрик кластеризации\n",
    "viz.analyze_cluster_metrics(df_viz, embeddings_tsne)\n"
   ]
  },
  {
   "cell_type": "code",
   "execution_count": null,
   "metadata": {},
   "outputs": [],
   "source": []
  },
  {
   "cell_type": "markdown",
   "metadata": {},
   "source": [
    "## 6. Анализ разделимости классов\n",
    "\n",
    "Проведем дополнительный анализ для определения, насколько хорошо разделяются классы в пространстве эмбедингов."
   ]
  },
  {
   "cell_type": "code",
   "execution_count": null,
   "metadata": {},
   "outputs": [],
   "source": [
    "# Визуализация PCA\n",
    "viz.visualize_pca(df_viz, embeddings, task)\n"
   ]
  },
  {
   "cell_type": "code",
   "execution_count": null,
   "metadata": {},
   "outputs": [],
   "source": []
  },
  {
   "cell_type": "markdown",
   "metadata": {},
   "source": [
    "## 7. Анализ сложных для классификации примеров\n",
    "\n",
    "Найдем примеры, которые были некорректно кластеризованы, и проанализируем их характеристики."
   ]
  },
  {
   "cell_type": "code",
   "execution_count": null,
   "metadata": {},
   "outputs": [],
   "source": [
    "# Анализ ошибочно кластеризованных примеров\n",
    "viz.analyze_clustering_errors(df_viz, task)\n"
   ]
  },
  {
   "cell_type": "code",
   "execution_count": null,
   "metadata": {},
   "outputs": [],
   "source": []
  },
  {
   "cell_type": "markdown",
   "metadata": {},
   "source": [
    "## 8. Выводы и рекомендации\n",
    "\n",
    "На основе проведенного анализа можно сделать следующие выводы:\n",
    "\n",
    "1. **Разделимость классов**: [здесь будут выводы о том, насколько хорошо разделяются классы в пространстве эмбедингов]\n",
    "\n",
    "2. **Качество кластеризации**: [здесь будут выводы о качестве кластеризации и соответствии кластеров истинным меткам]\n",
    "\n",
    "3. **Сложные примеры**: [здесь будут выводы о характеристиках сложных для классификации примеров]\n",
    "\n",
    "4. **Рекомендации для улучшения**:\n",
    "   - [рекомендация 1]\n",
    "   - [рекомендация 2]\n",
    "   - [рекомендация 3]\n",
    "   \n",
    "Дальнейшие шаги в проекте могут включать:\n",
    "- Обучение и оптимизацию классификаторов на основе полученных эмбедингов\n",
    "- Применение методов работы с несбалансированными классами\n",
    "- Интеграцию дополнительных признаков для улучшения разделимости классов"
   ]
  }
 ],
 "metadata": {
  "kernelspec": {
   "display_name": "amikhalev_gen_ai_detection",
   "language": "python",
   "name": "python3"
  },
  "language_info": {
   "codemirror_mode": {
    "name": "ipython",
    "version": 3
   },
   "file_extension": ".py",
   "mimetype": "text/x-python",
   "name": "python",
   "nbconvert_exporter": "python",
   "pygments_lexer": "ipython3",
   "version": "3.10.17"
  }
 },
 "nbformat": 4,
 "nbformat_minor": 2
}
